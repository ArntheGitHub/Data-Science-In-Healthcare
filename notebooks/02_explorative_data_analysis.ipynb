{
 "cells": [
  {
   "cell_type": "markdown",
   "id": "43362c9a",
   "metadata": {},
   "source": [
    "# Explorative Data analysis\n"
   ]
  },
  {
   "cell_type": "markdown",
   "id": "3ea8f2e9",
   "metadata": {},
   "source": []
  },
  {
   "cell_type": "markdown",
   "id": "55d31dcd",
   "metadata": {},
   "source": [
    "### Metadata from Kaggle\n",
    "Attribute Information\n",
    "1) id: unique identifier\n",
    "2) gender: \"Male\", \"Female\" or \"Other\"\n",
    "3) age: age of the patient\n",
    "4) hypertension: 0 if the patient doesn't have hypertension, 1 if the patient has hypertension\n",
    "5) heart_disease: 0 if the patient doesn't have any heart diseases, 1 if the patient has a heart disease\n",
    "6) ever_married: \"No\" or \"Yes\"\n",
    "7) work_type: \"children\", \"Govt_jov\", \"Never_worked\", \"Private\" or \"Self-employed\"\n",
    "8) Residence_type: \"Rural\" or \"Urban\"\n",
    "9) avg_glucose_level: average glucose level in blood\n",
    "10) bmi: body mass index\n",
    "11) smoking_status: \"formerly smoked\", \"never smoked\", \"smokes\" or \"Unknown\"*\n",
    "12) stroke: 1 if the patient had a stroke or 0 if not\n",
    "\n",
    "### Our Calculated fields\n",
    "13) bmi_imp: imputed median \n",
    "14) smoking_imp: imputed modus\n",
    "15) rounded_age: rounded age if original value had decimals\n"
   ]
  },
  {
   "cell_type": "markdown",
   "id": "81336741",
   "metadata": {},
   "source": [
    "## Install Packages and Imports\n",
    "skip this step if already installed"
   ]
  },
  {
   "cell_type": "code",
   "execution_count": 4,
   "id": "f9c3c5c9",
   "metadata": {
    "scrolled": true
   },
   "outputs": [],
   "source": [
    "#!pip install pandas\n",
    "#!pip instal seaborn\n"
   ]
  },
  {
   "cell_type": "code",
   "execution_count": 2,
   "id": "8c854ab2",
   "metadata": {
    "scrolled": true
   },
   "outputs": [],
   "source": [
    "import pandas as pd\n",
    "import seaborn as sns\n",
    "%matplotlib inline\n"
   ]
  },
  {
   "cell_type": "markdown",
   "id": "7e06bdc9",
   "metadata": {},
   "source": [
    "## Read the Data"
   ]
  },
  {
   "cell_type": "code",
   "execution_count": 3,
   "id": "98403591",
   "metadata": {},
   "outputs": [],
   "source": [
    "\n",
    "df = pd.read_csv(\"../data/cleaned/stroke_data_cleaned.csv\",low_memory = False)\n"
   ]
  },
  {
   "cell_type": "code",
   "execution_count": null,
   "id": "e6cba375",
   "metadata": {},
   "outputs": [],
   "source": [
    "Todo\n",
    "Univariate analsys\n",
    "target variable:\n",
    "     imbalanced\n",
    "correlations\n",
    "kgl\n",
    "Censoring\n",
    "  Outliars\n",
    "  Missingsd  "
   ]
  }
 ],
 "metadata": {
  "kernelspec": {
   "display_name": "cas_de",
   "language": "python",
   "name": "cas_de"
  },
  "language_info": {
   "codemirror_mode": {
    "name": "ipython",
    "version": 3
   },
   "file_extension": ".py",
   "mimetype": "text/x-python",
   "name": "python",
   "nbconvert_exporter": "python",
   "pygments_lexer": "ipython3",
   "version": "3.11.5"
  }
 },
 "nbformat": 4,
 "nbformat_minor": 5
}

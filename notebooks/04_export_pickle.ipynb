{
 "cells": [
  {
   "cell_type": "markdown",
   "metadata": {},
   "source": [
    "## Export Pickle. Logistic Regression Model\n",
    "\n",
    "As decided in the Modelling Part we selected the Logistic Regression Model for the Streamlit UI."
   ]
  },
  {
   "cell_type": "code",
   "execution_count": 2,
   "metadata": {},
   "outputs": [],
   "source": [
    "import pickle\n",
    "import pandas as pd\n",
    "from sklearn.model_selection import train_test_split\n",
    "from sklearn.preprocessing import StandardScaler\n",
    "from sklearn.linear_model import LogisticRegression"
   ]
  },
  {
   "cell_type": "code",
   "execution_count": 4,
   "metadata": {},
   "outputs": [],
   "source": [
    "# Define training function\n",
    "def train_models(models, X_train, y_train):\n",
    "    \"\"\"\n",
    "    Trains multiple classification models.\n",
    "    \"\"\"\n",
    "\n",
    "    trained_models = {}\n",
    "\n",
    "    for model_name, model_instance in models:\n",
    "        model = model_instance\n",
    "        model.fit(X_train, y_train)\n",
    "        trained_models[model_name] = model\n",
    "\n",
    "    return trained_models\n",
    "\n",
    "# Define training data saving function\n",
    "def save_trained_data(trained_models, scaler, X_train, y_train):\n",
    "    \"\"\"\n",
    "    Saves training data for multiple classification models, including the scaler.\n",
    "    \"\"\"\n",
    "    for model_name, model in trained_models.items():\n",
    "        with open(f\"{model_name}.pkl\", \"wb\") as f:\n",
    "            pickle.dump({'model': model, 'scaler': scaler, 'X_train': X_train, 'y_train': y_train}, f)\n"
   ]
  },
  {
   "cell_type": "code",
   "execution_count": 6,
   "metadata": {},
   "outputs": [],
   "source": [
    "\n",
    "# Load dataset\n",
    "dataset_encoded = pd.read_csv('../data/cleaned/dataset_encoded.csv')\n",
    "\n",
    "# Divide the training data\n",
    "X = dataset_encoded.drop(['stroke'], axis=1)  # features\n",
    "y = dataset_encoded['stroke']  # target\n",
    "\n",
    "# Split the data again into training and testing sets (80/20 split)\n",
    "X_train, _, y_train, _ = train_test_split(X, y, test_size=0.2, random_state=0, stratify=y)\n",
    "\n",
    "# Standardizing(scaling) the data\n",
    "std = StandardScaler()\n",
    "X_train_std = std.fit_transform(X_train)\n",
    "\n",
    "# Define the model\n",
    "model = LogisticRegression(random_state=0, max_iter=10000, class_weight='balanced')\n",
    "\n",
    "# Train model\n",
    "model.fit(X_train_std, y_train)\n",
    "\n",
    "# Save the trained model and associated data\n",
    "save_trained_data({'Logistic_Regression': model}, std, X_train_std, y_train)\n"
   ]
  }
 ],
 "metadata": {
  "kernelspec": {
   "display_name": "base",
   "language": "python",
   "name": "python3"
  },
  "language_info": {
   "codemirror_mode": {
    "name": "ipython",
    "version": 3
   },
   "file_extension": ".py",
   "mimetype": "text/x-python",
   "name": "python",
   "nbconvert_exporter": "python",
   "pygments_lexer": "ipython3",
   "version": "3.11.5"
  }
 },
 "nbformat": 4,
 "nbformat_minor": 2
}

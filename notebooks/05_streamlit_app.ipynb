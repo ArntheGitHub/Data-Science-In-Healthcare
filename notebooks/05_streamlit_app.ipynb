{
 "cells": [
  {
   "cell_type": "code",
   "execution_count": 12,
   "metadata": {},
   "outputs": [],
   "source": [
    "import streamlit as st\n",
    "import pickle\n",
    "import numpy as np\n",
    "from functools import lru_cache\n"
   ]
  },
  {
   "cell_type": "code",
   "execution_count": 16,
   "metadata": {},
   "outputs": [
    {
     "ename": "AttributeError",
     "evalue": "module 'streamlit' has no attribute 'checkbox'",
     "output_type": "error",
     "traceback": [
      "\u001b[1;31m---------------------------------------------------------------------------\u001b[0m",
      "\u001b[1;31mAttributeError\u001b[0m                            Traceback (most recent call last)",
      "Cell \u001b[1;32mIn[16], line 23\u001b[0m\n\u001b[0;32m     20\u001b[0m     \u001b[38;5;28;01mreturn\u001b[39;00m probability[\u001b[38;5;241m0\u001b[39m][\u001b[38;5;241m1\u001b[39m]\n\u001b[0;32m     22\u001b[0m \u001b[38;5;66;03m# Input values for features\u001b[39;00m\n\u001b[1;32m---> 23\u001b[0m hypertension \u001b[38;5;241m=\u001b[39m \u001b[43mst\u001b[49m\u001b[38;5;241;43m.\u001b[39;49m\u001b[43mcheckbox\u001b[49m(\u001b[38;5;124m\"\u001b[39m\u001b[38;5;124mHypertension\u001b[39m\u001b[38;5;124m\"\u001b[39m)\n\u001b[0;32m     24\u001b[0m heart_disease \u001b[38;5;241m=\u001b[39m st\u001b[38;5;241m.\u001b[39mcheckbox(\u001b[38;5;124m\"\u001b[39m\u001b[38;5;124mHeart Disease\u001b[39m\u001b[38;5;124m\"\u001b[39m)\n\u001b[0;32m     25\u001b[0m ever_married \u001b[38;5;241m=\u001b[39m st\u001b[38;5;241m.\u001b[39mcheckbox(\u001b[38;5;124m\"\u001b[39m\u001b[38;5;124mEver Married\u001b[39m\u001b[38;5;124m\"\u001b[39m)\n",
      "\u001b[1;31mAttributeError\u001b[0m: module 'streamlit' has no attribute 'checkbox'"
     ]
    }
   ],
   "source": [
    "\n",
    "# Load the trained model and associated data\n",
    "@lru_cache(maxsize=None)\n",
    "def load_trained_data():\n",
    "    with open(\"../data/cleaned/Logistic_Regression_trained_data.pkl\", \"rb\") as f:\n",
    "        return pickle.load(f)\n",
    "\n",
    "trained_data = load_trained_data()\n",
    "\n",
    "# Extract the model and other data\n",
    "model = trained_data['model']\n",
    "X_train = trained_data['X_train']\n",
    "y_train = trained_data['y_train']\n",
    "\n",
    "# Function to predict stroke probability\n",
    "def predict_stroke_probability(features):\n",
    "    # Scale the input features\n",
    "    std_features = (features - X_train.mean(axis=0)) / X_train.std(axis=0)\n",
    "    # Make predictions\n",
    "    probability = model.predict_proba(std_features.reshape(1, -1))\n",
    "    return probability[0][1]\n",
    "\n",
    "# Input values for features\n",
    "hypertension = st.checkbox(\"Hypertension\")\n",
    "heart_disease = st.checkbox(\"Heart Disease\")\n",
    "ever_married = st.checkbox(\"Ever Married\")\n",
    "residence_type = st.selectbox(\"Residence Type\", [\"Urban\", \"Rural\"])\n",
    "avg_glucose_level = st.number_input(\"Average Glucose Level\")\n",
    "bmi = st.number_input(\"BMI\")\n",
    "rounded_age = st.number_input(\"Age\")\n",
    "gender = st.selectbox(\"Gender\", [\"Female\", \"Male\", \"Other\"])\n",
    "smoking_status = st.selectbox(\"Smoking Status\", [\"Unknown\", \"Formerly Smoked\", \"Never Smoked\", \"Smokes\"])\n",
    "work_type = st.selectbox(\"Work Type\", [\"Govt Job\", \"Never Worked\", \"Private\", \"Self-employed\", \"Children\"])\n",
    "\n",
    "# Map selected values to feature vector\n",
    "gender_mapping = {\"Female\": 1, \"Male\": 0, \"Other\": 2}\n",
    "gender_encoded = gender_mapping[gender]\n",
    "\n",
    "residence_mapping = {\"Urban\": 1, \"Rural\": 0}\n",
    "residence_encoded = residence_mapping[residence_type]\n",
    "\n",
    "smoking_mapping = {\"Unknown\": 0, \"Formerly Smoked\": 1, \"Never Smoked\": 2, \"Smokes\": 3}\n",
    "smoking_encoded = smoking_mapping[smoking_status]\n",
    "\n",
    "work_mapping = {\"Govt Job\": 0, \"Never Worked\": 1, \"Private\": 2, \"Self-employed\": 3, \"Children\": 4}\n",
    "work_encoded = work_mapping[work_type]\n",
    "\n",
    "# Prepare feature vector\n",
    "features = np.array([hypertension, heart_disease, ever_married, residence_encoded, avg_glucose_level, bmi, \n",
    "                     rounded_age, gender_encoded == 1, gender_encoded == 0, gender_encoded == 2, \n",
    "                     smoking_encoded == 0, smoking_encoded == 1, smoking_encoded == 2, smoking_encoded == 3, \n",
    "                     work_encoded == 0, work_encoded == 1, work_encoded == 2, work_encoded == 3, \n",
    "                     work_encoded == 4]).astype(int)\n",
    "\n",
    "# Predict probability\n",
    "if st.button(\"Predict\"):\n",
    "    probability = predict_stroke_probability(features)\n",
    "    st.write(f\"The probability of having a stroke is: {probability:.2f}\")\n"
   ]
  }
 ],
 "metadata": {
  "kernelspec": {
   "display_name": "base",
   "language": "python",
   "name": "python3"
  },
  "language_info": {
   "codemirror_mode": {
    "name": "ipython",
    "version": 3
   },
   "file_extension": ".py",
   "mimetype": "text/x-python",
   "name": "python",
   "nbconvert_exporter": "python",
   "pygments_lexer": "ipython3",
   "version": "3.11.5"
  }
 },
 "nbformat": 4,
 "nbformat_minor": 2
}
